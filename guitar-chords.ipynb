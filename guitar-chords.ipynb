{
 "cells": [
  {
   "cell_type": "code",
   "execution_count": 1,
   "metadata": {
    "_cell_guid": "b1076dfc-b9ad-4769-8c92-a6c4dae69d19",
    "_uuid": "8f2839f25d086af736a60e9eeb907d3b93b6e0e5"
   },
   "outputs": [],
   "source": [
    "import numpy as np\n",
    "import pandas as pd\n",
    "from random import randint"
   ]
  },
  {
   "cell_type": "code",
   "execution_count": 11,
   "metadata": {
    "_cell_guid": "79c7e3d0-c299-4dcb-8224-4455121ee9b0",
    "_uuid": "d629ff2d2480ee46fbb7e2d37f6b5fab8052498a"
   },
   "outputs": [
    {
     "data": {
      "text/plain": [
       "'C'"
      ]
     },
     "execution_count": 11,
     "metadata": {},
     "output_type": "execute_result"
    }
   ],
   "source": [
    "def halfstepup(note, halfsteps):\n",
    "    \"\"\"\n",
    "    Moves up a certain number of half steps from the given note\n",
    "    \"\"\"\n",
    "    halfsteps_list = ['A', 'A#', 'B', 'C', 'C#', 'D', 'D#', 'E', 'F', 'F#', 'G', 'G#']\n",
    "    for index in range(12):\n",
    "        if halfsteps_list[index] == note:\n",
    "            break\n",
    "    index = index + halfsteps\n",
    "    if index <= 11:\n",
    "        return halfsteps_list[index]\n",
    "    else:\n",
    "        return halfsteps_list[index-12] \n",
    "    \n",
    "halfstepup('A', 3)"
   ]
  },
  {
   "cell_type": "code",
   "execution_count": 10,
   "metadata": {
    "_cell_guid": "79c7e3d0-c299-4dcb-8224-4455121ee9b0",
    "_uuid": "d629ff2d2480ee46fbb7e2d37f6b5fab8052498a"
   },
   "outputs": [
    {
     "data": {
      "text/plain": [
       "['E', 'D#', 'F#', 'B', 'B', 'E']"
      ]
     },
     "execution_count": 10,
     "metadata": {},
     "output_type": "execute_result"
    }
   ],
   "source": [
    "def guitarstrings(strings):\n",
    "    \"\"\"\n",
    "    Takes fret numbers from each string and returns notes in a list\n",
    "    Ex. Given (0, 0, 0, 2, 3, 2) returns (E, A, D, A, D, F#) \n",
    "    \"\"\"\n",
    "    notes = ['E', 'A', 'D', 'G', 'B', 'E']\n",
    "    for i in range(len(strings)):\n",
    "        if type(strings[i]) == str:\n",
    "            notes[i] = 'x'\n",
    "        else:\n",
    "            notes[i] = halfstepup(notes[i], strings[i]) \n",
    "    \n",
    "    return notes\n",
    "\n",
    "guitarstrings([0,6,4,4,0,0])"
   ]
  },
  {
   "cell_type": "code",
   "execution_count": 9,
   "metadata": {
    "_cell_guid": "79c7e3d0-c299-4dcb-8224-4455121ee9b0",
    "_uuid": "d629ff2d2480ee46fbb7e2d37f6b5fab8052498a"
   },
   "outputs": [
    {
     "name": "stdout",
     "output_type": "stream",
     "text": [
      "This is a(n) G major chord.\n"
     ]
    },
    {
     "data": {
      "text/plain": [
       "True"
      ]
     },
     "execution_count": 9,
     "metadata": {},
     "output_type": "execute_result"
    }
   ],
   "source": [
    "def ischord (strings):\n",
    "    \"\"\"\n",
    "    Takes a list of strings played and returns whether or not it is a chord, naming it if it is.\n",
    "    \"\"\" \n",
    "    notes = guitarstrings(strings)\n",
    "    \n",
    "    # remove unused strings\n",
    "    for j in range(len(notes)-1, -1, -1):\n",
    "        if notes[j] == 'x':\n",
    "            del notes[j]\n",
    "            #print(notes)\n",
    "    \n",
    "    #Check each note to see if it is the key\n",
    "    for note in notes:\n",
    "        notkey = 0\n",
    "        third = halfstepup(note, 4)\n",
    "        fifth = halfstepup(note, 7)\n",
    "        \n",
    "        # check for major triad\n",
    "        for i in range(len(notes)):\n",
    "            if notes[i] != note and notes[i] != third and notes[i] != fifth:\n",
    "                notkey = notkey + 1\n",
    "                #print ('The key of ' + note + ' major does not contain ' + notes[i] + '. i = ' + str(i))\n",
    "                #print ('It contains ' + note + third + fifth)\\\n",
    "                #print (note)\n",
    "        if notkey == 0:\n",
    "            print ('This is a(n) ' + note + ' major chord.')\n",
    "            return True\n",
    "        \n",
    "        # check for minor triad\n",
    "        notkey = 0\n",
    "        third = halfstepup(note, 3)\n",
    "        for i in range(len(notes)):\n",
    "            if notes[i] != note and notes[i] != third and notes[i] != fifth:\n",
    "                notkey = notkey + 1\n",
    "                #print ('The key of ' + note + ' minor does not contain ' + notes[i] + '. i = ' + str(i))\n",
    "                #print ('It contains ' + note + third + fifth)\n",
    "                #print(note + ' minor notkey = ' + str(notkey))\n",
    "        if notkey == 0:\n",
    "            print ('This is a(n) ' + note + ' minor chord.')\n",
    "            return True\n",
    "        \n",
    "        #Check for 7th chord\n",
    "        \n",
    "    #return False if no notes are the key\n",
    "    print(\"This is not a triad chord.\")\n",
    "    return False\n",
    "\n",
    "ischord([3,2,0,0,0,3])"
   ]
  },
  {
   "cell_type": "code",
   "execution_count": 30,
   "metadata": {
    "_cell_guid": "79c7e3d0-c299-4dcb-8224-4455121ee9b0",
    "_uuid": "d629ff2d2480ee46fbb7e2d37f6b5fab8052498a"
   },
   "outputs": [
    {
     "name": "stdout",
     "output_type": "stream",
     "text": [
      "You can play a(n) A major by holding [0, 0, 2, 2, 2, 0]\n"
     ]
    },
    {
     "data": {
      "text/plain": [
       "[0, 0, 2, 2, 2, 0]"
      ]
     },
     "execution_count": 30,
     "metadata": {},
     "output_type": "execute_result"
    }
   ],
   "source": [
    "def make_chord(key, major_minor, capo=0, to_print=False):\n",
    "    \"\"\"\n",
    "    Given a key and whether it's major or minor, returns fret numbers to hold for each string to make the chord.\n",
    "    \"\"\"\n",
    "    notes = ['E', 'A', 'D', 'G', 'B', 'E']\n",
    "    if major_minor.lower() == 'minor':\n",
    "        third = halfstepup(key, 3)\n",
    "    else:\n",
    "        third = halfstepup(key, 4)\n",
    "    fifth = halfstepup(key, 7)\n",
    "    strings = []\n",
    "\n",
    "    for note in notes:\n",
    "        counter = 0\n",
    "        while (note != key and note != third and note != fifth) or (counter < capo):\n",
    "            note = halfstepup(note, 1)\n",
    "            counter += 1\n",
    "        strings.append(counter)\n",
    "    if to_print == True:\n",
    "        print('You can play a(n) ' + key + ' ' + major_minor + ' by holding ' + str(strings))\n",
    "    return strings\n",
    "\n",
    "#Make a chord by entering the chord name\n",
    "make_chord('A', 'major', capo=0, to_print=True)"
   ]
  },
  {
   "cell_type": "code",
   "execution_count": 25,
   "metadata": {
    "_cell_guid": "79c7e3d0-c299-4dcb-8224-4455121ee9b0",
    "_uuid": "d629ff2d2480ee46fbb7e2d37f6b5fab8052498a"
   },
   "outputs": [
    {
     "name": "stdout",
     "output_type": "stream",
     "text": [
      "You can play a(n) A minor by holding [0, 0, 2, 2, 1, 0]\n",
      "You can play a(n) E minor by holding [3, 2, 2, 4, 5, 3]\n",
      "You can play a(n) F# major by holding [2, 1, 4, 3, 2, 2]\n",
      "You can play a(n) D minor by holding [1, 5, 3, 2, 3, 1]\n"
     ]
    }
   ],
   "source": [
    "def make_four_chord_progression(key,major_minor,capo=0):\n",
    "    \"\"\"\n",
    "    Given a key, makes a random four chord progression using a 1, 5, 7, 9\n",
    "    \"\"\"\n",
    "    def flip(major_minor):\n",
    "        if major_minor == 'minor':\n",
    "            return 'major'\n",
    "        else: \n",
    "            return 'minor'\n",
    "    \n",
    "    # define chords\n",
    "    one = [key, major_minor]\n",
    "    five = [halfstepup(key, 5), major_minor]\n",
    "    seven = [halfstepup(key, 7), major_minor]\n",
    "    nine = [halfstepup(key, 9), flip(major_minor)]\n",
    "    chords = [five, seven, nine]\n",
    "    \n",
    "    #make progression\n",
    "    make_chord(key, major_minor, to_print=True)\n",
    "    for i in range(3):\n",
    "        chord = chords[randint(0,2-i)]\n",
    "        make_chord(chord[0], chord[1], True)\n",
    "        chords.remove(chord)\n",
    "    \n",
    "    \n",
    "# Enter the strings to be played\n",
    "#play = [6,3,2,12,1,7]\n",
    "#print (guitarstrings(play))\n",
    "#ischord(play)\n",
    "\n",
    "\n",
    "make_four_chord_progression('A','minor')"
   ]
  }
 ],
 "metadata": {
  "kernelspec": {
   "display_name": "Python 3",
   "language": "python",
   "name": "python3"
  },
  "language_info": {
   "codemirror_mode": {
    "name": "ipython",
    "version": 3
   },
   "file_extension": ".py",
   "mimetype": "text/x-python",
   "name": "python",
   "nbconvert_exporter": "python",
   "pygments_lexer": "ipython3",
   "version": "3.7.6"
  }
 },
 "nbformat": 4,
 "nbformat_minor": 4
}
